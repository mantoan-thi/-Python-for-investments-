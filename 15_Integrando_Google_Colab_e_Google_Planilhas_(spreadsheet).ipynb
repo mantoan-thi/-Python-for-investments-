{
  "nbformat": 4,
  "nbformat_minor": 0,
  "metadata": {
    "colab": {
      "name": "15 - Integrando Google Colab e Google Planilhas (spreadsheet).ipynb",
      "provenance": [],
      "include_colab_link": true
    },
    "kernelspec": {
      "name": "python3",
      "display_name": "Python 3"
    }
  },
  "cells": [
    {
      "cell_type": "markdown",
      "metadata": {
        "id": "view-in-github",
        "colab_type": "text"
      },
      "source": [
        "<a href=\"https://colab.research.google.com/github/ricospeloacaso/python_para_investimentos/blob/master/15_Integrando_Google_Colab_e_Google_Planilhas_(spreadsheet).ipynb\" target=\"_parent\"><img src=\"https://colab.research.google.com/assets/colab-badge.svg\" alt=\"Open In Colab\"/></a>"
      ]
    },
    {
      "cell_type": "markdown",
      "metadata": {
        "id": "jAFCrMR4lhOk",
        "colab_type": "text"
      },
      "source": [
        "#Ricos pelo Acaso\n",
        "* Link para o vídeo: https://youtu.be/HlhbsrJ4_PQ"
      ]
    },
    {
      "cell_type": "markdown",
      "metadata": {
        "id": "xdIDjdI1Uq5Y",
        "colab_type": "text"
      },
      "source": [
        ">Instalando `gspread`"
      ]
    },
    {
      "cell_type": "code",
      "metadata": {
        "id": "8f78dBjnA3Y-",
        "colab_type": "code",
        "colab": {}
      },
      "source": [
        "!pip install gspread"
      ],
      "execution_count": 0,
      "outputs": []
    },
    {
      "cell_type": "markdown",
      "metadata": {
        "id": "40vthssCUv1X",
        "colab_type": "text"
      },
      "source": [
        ">Importando as Bibliotecas"
      ]
    },
    {
      "cell_type": "code",
      "metadata": {
        "id": "VgLSPFycA9SJ",
        "colab_type": "code",
        "colab": {}
      },
      "source": [
        "from google.colab import auth\n",
        "import gspread\n",
        "from oauth2client.client import GoogleCredentials"
      ],
      "execution_count": 0,
      "outputs": []
    },
    {
      "cell_type": "markdown",
      "metadata": {
        "id": "R2du4Rvuxq4h",
        "colab_type": "text"
      },
      "source": [
        ">Realizando a Autenticação"
      ]
    },
    {
      "cell_type": "code",
      "metadata": {
        "id": "bJGFIHvJxcfo",
        "colab_type": "code",
        "colab": {}
      },
      "source": [
        "auth.authenticate_user()\n",
        "gc = gspread.authorize(GoogleCredentials.get_application_default())"
      ],
      "execution_count": 0,
      "outputs": []
    },
    {
      "cell_type": "markdown",
      "metadata": {
        "id": "SBpuhBm9U8cg",
        "colab_type": "text"
      },
      "source": [
        ">Criando uma planilha vazia"
      ]
    },
    {
      "cell_type": "code",
      "metadata": {
        "id": "PpVsOifeBB0m",
        "colab_type": "code",
        "outputId": "ec175888-ae1c-4d87-acb3-813f6beab574",
        "colab": {
          "base_uri": "https://localhost:8080/",
          "height": 34
        }
      },
      "source": [
        "gc.create('Planilha01')"
      ],
      "execution_count": 0,
      "outputs": [
        {
          "output_type": "execute_result",
          "data": {
            "text/plain": [
              "<Spreadsheet 'Planilha01' id:19pRZ5GYD4cGGa-p2yoiuy05sKefT6w-XFUpi04jPlgE>"
            ]
          },
          "metadata": {
            "tags": []
          },
          "execution_count": 4
        }
      ]
    },
    {
      "cell_type": "markdown",
      "metadata": {
        "id": "PLGoqsjliO8P",
        "colab_type": "text"
      },
      "source": [
        ">Abrindo uma Planilha"
      ]
    },
    {
      "cell_type": "code",
      "metadata": {
        "id": "WCxNYLZCiPBv",
        "colab_type": "code",
        "colab": {}
      },
      "source": [
        "planilha = gc.open('Planilha01')"
      ],
      "execution_count": 0,
      "outputs": []
    },
    {
      "cell_type": "markdown",
      "metadata": {
        "id": "4qHcboXCVZ_j",
        "colab_type": "text"
      },
      "source": [
        ">Adicionando uma nova Página\n",
        "\n"
      ]
    },
    {
      "cell_type": "code",
      "metadata": {
        "id": "gSLxsA5sVfuR",
        "colab_type": "code",
        "outputId": "9fec4a45-58f6-4a39-be01-df732dead789",
        "colab": {
          "base_uri": "https://localhost:8080/",
          "height": 34
        }
      },
      "source": [
        "planilha.add_worksheet('nova_pagina', 10, 5)"
      ],
      "execution_count": 0,
      "outputs": [
        {
          "output_type": "execute_result",
          "data": {
            "text/plain": [
              "<Worksheet 'nova_pagina' id:40256675>"
            ]
          },
          "metadata": {
            "tags": []
          },
          "execution_count": 7
        }
      ]
    },
    {
      "cell_type": "markdown",
      "metadata": {
        "id": "UtRICcfNaMOq",
        "colab_type": "text"
      },
      "source": [
        ">Selecionando uma Página"
      ]
    },
    {
      "cell_type": "code",
      "metadata": {
        "id": "dGhngLzmhJO1",
        "colab_type": "code",
        "colab": {}
      },
      "source": [
        "pagina1 = planilha.get_worksheet(0)"
      ],
      "execution_count": 0,
      "outputs": []
    },
    {
      "cell_type": "markdown",
      "metadata": {
        "id": "hkWy8KOCi4py",
        "colab_type": "text"
      },
      "source": [
        ">Apagando uma Página"
      ]
    },
    {
      "cell_type": "code",
      "metadata": {
        "id": "6HvqjzJghZZH",
        "colab_type": "code",
        "outputId": "b118859d-0405-4385-973e-ff48182b7377",
        "colab": {
          "base_uri": "https://localhost:8080/",
          "height": 51
        }
      },
      "source": [
        "planilha.del_worksheet(pagina1)"
      ],
      "execution_count": 0,
      "outputs": [
        {
          "output_type": "execute_result",
          "data": {
            "text/plain": [
              "{'replies': [{}],\n",
              " 'spreadsheetId': '19pRZ5GYD4cGGa-p2yoiuy05sKefT6w-XFUpi04jPlgE'}"
            ]
          },
          "metadata": {
            "tags": []
          },
          "execution_count": 9
        }
      ]
    },
    {
      "cell_type": "markdown",
      "metadata": {
        "id": "4-B4RpqpaOu5",
        "colab_type": "text"
      },
      "source": [
        ">Alterando os valores das células"
      ]
    },
    {
      "cell_type": "markdown",
      "metadata": {
        "id": "TkU-D5Zhkle4",
        "colab_type": "text"
      },
      "source": [
        ">>1º passo: selecionar a página"
      ]
    },
    {
      "cell_type": "code",
      "metadata": {
        "id": "BMNOIhJKjIQL",
        "colab_type": "code",
        "colab": {}
      },
      "source": [
        "nova_pagina = planilha.get_worksheet(0)"
      ],
      "execution_count": 0,
      "outputs": []
    },
    {
      "cell_type": "markdown",
      "metadata": {
        "id": "Xx7MhtXaktQp",
        "colab_type": "text"
      },
      "source": [
        ">>`update_acell()`: pelo código da célula"
      ]
    },
    {
      "cell_type": "code",
      "metadata": {
        "id": "9w9LPmdRZtuQ",
        "colab_type": "code",
        "outputId": "60dc71a4-0f2a-4c78-c16d-a168e6436a1e",
        "colab": {
          "base_uri": "https://localhost:8080/",
          "height": 102
        }
      },
      "source": [
        "nova_pagina.update_acell('a1', 120)"
      ],
      "execution_count": 0,
      "outputs": [
        {
          "output_type": "execute_result",
          "data": {
            "text/plain": [
              "{'spreadsheetId': '19pRZ5GYD4cGGa-p2yoiuy05sKefT6w-XFUpi04jPlgE',\n",
              " 'updatedCells': 1,\n",
              " 'updatedColumns': 1,\n",
              " 'updatedRange': 'nova_pagina!A1',\n",
              " 'updatedRows': 1}"
            ]
          },
          "metadata": {
            "tags": []
          },
          "execution_count": 11
        }
      ]
    },
    {
      "cell_type": "markdown",
      "metadata": {
        "id": "Fr1mLethlDIF",
        "colab_type": "text"
      },
      "source": [
        ">>`update_cell`: pelos números da linha e coluna"
      ]
    },
    {
      "cell_type": "code",
      "metadata": {
        "id": "1eU9gm3qZtya",
        "colab_type": "code",
        "outputId": "c8872f71-dab5-4411-b07d-a9dbd03721e8",
        "colab": {
          "base_uri": "https://localhost:8080/",
          "height": 102
        }
      },
      "source": [
        "nova_pagina.update_cell(2,2, 'qualquer texto')"
      ],
      "execution_count": 0,
      "outputs": [
        {
          "output_type": "execute_result",
          "data": {
            "text/plain": [
              "{'spreadsheetId': '19pRZ5GYD4cGGa-p2yoiuy05sKefT6w-XFUpi04jPlgE',\n",
              " 'updatedCells': 1,\n",
              " 'updatedColumns': 1,\n",
              " 'updatedRange': 'nova_pagina!B2',\n",
              " 'updatedRows': 1}"
            ]
          },
          "metadata": {
            "tags": []
          },
          "execution_count": 12
        }
      ]
    },
    {
      "cell_type": "markdown",
      "metadata": {
        "id": "tldCxUqWlQBc",
        "colab_type": "text"
      },
      "source": [
        ">>`update_cells()`: por uma lista de valores"
      ]
    },
    {
      "cell_type": "code",
      "metadata": {
        "id": "ME3vC5O8bgR9",
        "colab_type": "code",
        "outputId": "2c0ca856-00d5-45d9-88cb-356166f8e6f6",
        "colab": {
          "base_uri": "https://localhost:8080/",
          "height": 85
        }
      },
      "source": [
        "lista_cel = nova_pagina.range('a1:b2')\n",
        "lista_cel"
      ],
      "execution_count": 0,
      "outputs": [
        {
          "output_type": "execute_result",
          "data": {
            "text/plain": [
              "[<Cell R1C1 '120'>,\n",
              " <Cell R1C2 ''>,\n",
              " <Cell R2C1 ''>,\n",
              " <Cell R2C2 'qualquer texto'>]"
            ]
          },
          "metadata": {
            "tags": []
          },
          "execution_count": 13
        }
      ]
    },
    {
      "cell_type": "code",
      "metadata": {
        "id": "fDF-oFOznejR",
        "colab_type": "code",
        "outputId": "e13d8237-f8c4-46dd-884f-532e0b79836d",
        "colab": {
          "base_uri": "https://localhost:8080/",
          "height": 34
        }
      },
      "source": [
        "valores = ['a','b','c','d']\n",
        "\n",
        "for i, valor in enumerate(valores):\n",
        "  lista_cel[i].value = valor\n",
        "\n",
        "lista_cel"
      ],
      "execution_count": 0,
      "outputs": [
        {
          "output_type": "execute_result",
          "data": {
            "text/plain": [
              "[<Cell R1C1 'a'>, <Cell R1C2 'b'>, <Cell R2C1 'c'>, <Cell R2C2 'd'>]"
            ]
          },
          "metadata": {
            "tags": []
          },
          "execution_count": 17
        }
      ]
    },
    {
      "cell_type": "code",
      "metadata": {
        "id": "litmy4_xnGKx",
        "colab_type": "code",
        "outputId": "3e8f646c-1194-40c8-8fcb-390818279f3b",
        "colab": {
          "base_uri": "https://localhost:8080/",
          "height": 102
        }
      },
      "source": [
        "nova_pagina.update_cells(lista_cel)"
      ],
      "execution_count": 0,
      "outputs": [
        {
          "output_type": "execute_result",
          "data": {
            "text/plain": [
              "{'spreadsheetId': '19pRZ5GYD4cGGa-p2yoiuy05sKefT6w-XFUpi04jPlgE',\n",
              " 'updatedCells': 4,\n",
              " 'updatedColumns': 2,\n",
              " 'updatedRange': 'nova_pagina!A1:B2',\n",
              " 'updatedRows': 2}"
            ]
          },
          "metadata": {
            "tags": []
          },
          "execution_count": 18
        }
      ]
    },
    {
      "cell_type": "code",
      "metadata": {
        "id": "_CqDZr8LAj-3",
        "colab_type": "code",
        "colab": {}
      },
      "source": [
        ""
      ],
      "execution_count": 0,
      "outputs": []
    },
    {
      "cell_type": "markdown",
      "metadata": {
        "id": "gcVRSFNPmnTB",
        "colab_type": "text"
      },
      "source": [
        "###Carteira de Ações"
      ]
    },
    {
      "cell_type": "code",
      "metadata": {
        "id": "X7uTTvK2ocva",
        "colab_type": "code",
        "colab": {}
      },
      "source": [
        "plan_carteira = gc.open('Carteira')"
      ],
      "execution_count": 0,
      "outputs": []
    },
    {
      "cell_type": "markdown",
      "metadata": {
        "id": "4qjPfpRDmyxv",
        "colab_type": "text"
      },
      "source": [
        ">Criando um DataFrame Pandas com uma planilha do Google Planilhas"
      ]
    },
    {
      "cell_type": "code",
      "metadata": {
        "id": "ooDFcrDbm2Dd",
        "colab_type": "code",
        "colab": {}
      },
      "source": [
        "import pandas as pd"
      ],
      "execution_count": 0,
      "outputs": []
    },
    {
      "cell_type": "code",
      "metadata": {
        "id": "h5nZXPFRnfzp",
        "colab_type": "code",
        "outputId": "edfb5d71-5265-44ff-f637-2908a1d7e13f",
        "colab": {
          "base_uri": "https://localhost:8080/",
          "height": 235
        }
      },
      "source": [
        "carteira = pd.DataFrame(plan_carteira.sheet1.get_all_records())\n",
        "carteira.set_index('Cod', inplace=True)\n",
        "\n",
        "carteira"
      ],
      "execution_count": 0,
      "outputs": [
        {
          "output_type": "execute_result",
          "data": {
            "text/html": [
              "<div>\n",
              "<style scoped>\n",
              "    .dataframe tbody tr th:only-of-type {\n",
              "        vertical-align: middle;\n",
              "    }\n",
              "\n",
              "    .dataframe tbody tr th {\n",
              "        vertical-align: top;\n",
              "    }\n",
              "\n",
              "    .dataframe thead th {\n",
              "        text-align: right;\n",
              "    }\n",
              "</style>\n",
              "<table border=\"1\" class=\"dataframe\">\n",
              "  <thead>\n",
              "    <tr style=\"text-align: right;\">\n",
              "      <th></th>\n",
              "      <th>Qte</th>\n",
              "      <th>Cotação</th>\n",
              "      <th>Entrada</th>\n",
              "      <th>Custo</th>\n",
              "      <th>No dia</th>\n",
              "      <th>Preço Atual</th>\n",
              "      <th>Lucro R$</th>\n",
              "      <th>Lucro %</th>\n",
              "    </tr>\n",
              "    <tr>\n",
              "      <th>Cod</th>\n",
              "      <th></th>\n",
              "      <th></th>\n",
              "      <th></th>\n",
              "      <th></th>\n",
              "      <th></th>\n",
              "      <th></th>\n",
              "      <th></th>\n",
              "      <th></th>\n",
              "    </tr>\n",
              "  </thead>\n",
              "  <tbody>\n",
              "    <tr>\n",
              "      <th>VALE3</th>\n",
              "      <td>200</td>\n",
              "      <td>44,86</td>\n",
              "      <td>54,33</td>\n",
              "      <td>10.866,00</td>\n",
              "      <td>-4,00%</td>\n",
              "      <td>8.972,00</td>\n",
              "      <td>-1.894,00</td>\n",
              "      <td>-17,43%</td>\n",
              "    </tr>\n",
              "    <tr>\n",
              "      <th>PETR4</th>\n",
              "      <td>400</td>\n",
              "      <td>18,05</td>\n",
              "      <td>19,17</td>\n",
              "      <td>7.668,00</td>\n",
              "      <td>-0,82%</td>\n",
              "      <td>7.220,00</td>\n",
              "      <td>-448,00</td>\n",
              "      <td>-5,84%</td>\n",
              "    </tr>\n",
              "    <tr>\n",
              "      <th>ITUB4</th>\n",
              "      <td>300</td>\n",
              "      <td>22,77</td>\n",
              "      <td>38,03</td>\n",
              "      <td>11.409,00</td>\n",
              "      <td>-3,76%</td>\n",
              "      <td>6.831,00</td>\n",
              "      <td>-4.578,00</td>\n",
              "      <td>-40,13%</td>\n",
              "    </tr>\n",
              "    <tr>\n",
              "      <th>TAEE11</th>\n",
              "      <td>300</td>\n",
              "      <td>27,50</td>\n",
              "      <td>30,84</td>\n",
              "      <td>9.252,00</td>\n",
              "      <td>-0,72%</td>\n",
              "      <td>8.250,00</td>\n",
              "      <td>-1.002,00</td>\n",
              "      <td>-10,83%</td>\n",
              "    </tr>\n",
              "    <tr>\n",
              "      <th>LREN3</th>\n",
              "      <td>200</td>\n",
              "      <td>38,39</td>\n",
              "      <td>57,50</td>\n",
              "      <td>11.500,00</td>\n",
              "      <td>-5,33%</td>\n",
              "      <td>7.678,00</td>\n",
              "      <td>-3.822,00</td>\n",
              "      <td>-33,23%</td>\n",
              "    </tr>\n",
              "  </tbody>\n",
              "</table>\n",
              "</div>"
            ],
            "text/plain": [
              "        Qte Cotação Entrada      Custo  No dia Preço Atual   Lucro R$  Lucro %\n",
              "Cod                                                                           \n",
              "VALE3   200   44,86   54,33  10.866,00  -4,00%    8.972,00  -1.894,00  -17,43%\n",
              "PETR4   400   18,05   19,17   7.668,00  -0,82%    7.220,00    -448,00   -5,84%\n",
              "ITUB4   300   22,77   38,03  11.409,00  -3,76%    6.831,00  -4.578,00  -40,13%\n",
              "TAEE11  300   27,50   30,84   9.252,00  -0,72%    8.250,00  -1.002,00  -10,83%\n",
              "LREN3   200   38,39   57,50  11.500,00  -5,33%    7.678,00  -3.822,00  -33,23%"
            ]
          },
          "metadata": {
            "tags": []
          },
          "execution_count": 24
        }
      ]
    },
    {
      "cell_type": "markdown",
      "metadata": {
        "id": "lcysVrODm3L1",
        "colab_type": "text"
      },
      "source": [
        "###Salvando cotações do Yahoo Finance"
      ]
    },
    {
      "cell_type": "markdown",
      "metadata": {
        "id": "PXXkHBJDnBn1",
        "colab_type": "text"
      },
      "source": [
        ">Adicionando uma página à planilha"
      ]
    },
    {
      "cell_type": "code",
      "metadata": {
        "id": "VOwbyK4EnK0R",
        "colab_type": "code",
        "outputId": "94e38a6c-e5e1-48ad-c31f-f316ae1c2814",
        "colab": {
          "base_uri": "https://localhost:8080/",
          "height": 34
        }
      },
      "source": [
        "plan_carteira.add_worksheet('Cotações Yahoo', 1500, 71)"
      ],
      "execution_count": 0,
      "outputs": [
        {
          "output_type": "execute_result",
          "data": {
            "text/plain": [
              "<Worksheet 'Cotações Yahoo' id:47103618>"
            ]
          },
          "metadata": {
            "tags": []
          },
          "execution_count": 25
        }
      ]
    },
    {
      "cell_type": "markdown",
      "metadata": {
        "id": "sv_-LjLynLqn",
        "colab_type": "text"
      },
      "source": [
        ">Instalando o YFinance"
      ]
    },
    {
      "cell_type": "code",
      "metadata": {
        "id": "Ma4LCm2cnRIk",
        "colab_type": "code",
        "colab": {}
      },
      "source": [
        "!pip install yfinance"
      ],
      "execution_count": 0,
      "outputs": []
    },
    {
      "cell_type": "code",
      "metadata": {
        "id": "YRs4eN89nlSc",
        "colab_type": "code",
        "colab": {}
      },
      "source": [
        "import yfinance as yf"
      ],
      "execution_count": 0,
      "outputs": []
    },
    {
      "cell_type": "code",
      "metadata": {
        "id": "syEMASfNnlZl",
        "colab_type": "code",
        "colab": {}
      },
      "source": [
        "tickers_ibov = \"ABEV3.SA AZUL4.SA B3SA3.SA BBAS3.SA BBDC4.SA BBSE3.SA BPAC11.SA BRAP4.SA BRDT3.SA BRFS3.SA BRKM5.SA BRML3.SA BTOW3.SA CCRO3.SA CIEL3.SA CMIG4.SA COGN3.SA CRFB3.SA CSAN3.SA CSNA3.SA CVCB3.SA CYRE3.SA ECOR3.SA EGIE3.SA ELET6.SA EMBR3.SA ENBR3.SA EQTL3.SA FLRY3.SA GGBR4.SA GNDI3.SA GOAU4.SA GOLL4.SA HAPV3.SA HGTX3.SA HYPE3.SA IGTA3.SA IRBR3.SA ITSA4.SA ITUB4.SA JBSS3.SA KLBN11.SA LAME4.SA LREN3.SA MGLU3.SA MRFG3.SA MRVE3.SA MULT3.SA NTCO3.SA PCAR4.SA PETR4.SA QUAL3.SA RADL3.SA RAIL3.SA RENT3.SA SANB11.SA SBSP3.SA SMLS3.SA SULA11.SA SUZB3.SA TAEE11.SA TIMP3.SA TOTS3.SA UGPA3.SA USIM5.SA VALE3.SA VIVT4.SA VVAR3.SA WEGE3.SA YDUQ3.SA\""
      ],
      "execution_count": 0,
      "outputs": []
    },
    {
      "cell_type": "code",
      "metadata": {
        "id": "7QI6aIV1nlfc",
        "colab_type": "code",
        "outputId": "463c0ad2-76ed-4fe4-aeaf-0e9cbd0187a9",
        "colab": {
          "base_uri": "https://localhost:8080/",
          "height": 34
        }
      },
      "source": [
        "dados_yf = yf.download(tickers=tickers_ibov, period='5y')[\"Adj Close\"]"
      ],
      "execution_count": 0,
      "outputs": [
        {
          "output_type": "stream",
          "text": [
            "[*********************100%***********************]  70 of 70 completed\n"
          ],
          "name": "stdout"
        }
      ]
    },
    {
      "cell_type": "markdown",
      "metadata": {
        "id": "XLHQlDRfnUXr",
        "colab_type": "text"
      },
      "source": [
        ">Selecionando a página criada"
      ]
    },
    {
      "cell_type": "code",
      "metadata": {
        "id": "hOLsAxLaDf9S",
        "colab_type": "code",
        "colab": {}
      },
      "source": [
        ""
      ],
      "execution_count": 0,
      "outputs": []
    },
    {
      "cell_type": "code",
      "metadata": {
        "id": "dANyQ2b1nU9F",
        "colab_type": "code",
        "colab": {}
      },
      "source": [
        "pagina_yahoo = plan_carteira.get_worksheet(1)"
      ],
      "execution_count": 0,
      "outputs": []
    },
    {
      "cell_type": "markdown",
      "metadata": {
        "id": "fHAEMXDrnYZY",
        "colab_type": "text"
      },
      "source": [
        ">Instalando a biblioteca `gspread-dataframe`"
      ]
    },
    {
      "cell_type": "code",
      "metadata": {
        "id": "ib8F1f_TnZEN",
        "colab_type": "code",
        "colab": {}
      },
      "source": [
        "!pip install gspread-dataframe"
      ],
      "execution_count": 0,
      "outputs": []
    },
    {
      "cell_type": "code",
      "metadata": {
        "id": "DV3en5p0n1QJ",
        "colab_type": "code",
        "colab": {}
      },
      "source": [
        "from gspread_dataframe import get_as_dataframe, set_with_dataframe"
      ],
      "execution_count": 0,
      "outputs": []
    },
    {
      "cell_type": "markdown",
      "metadata": {
        "id": "UJBePoaIn2lm",
        "colab_type": "text"
      },
      "source": [
        ">Preenchendo os dados na planilha"
      ]
    },
    {
      "cell_type": "code",
      "metadata": {
        "id": "-c0Uem6Tn4Ut",
        "colab_type": "code",
        "colab": {}
      },
      "source": [
        "set_with_dataframe(pagina_yahoo, dados_yf, include_index=True)"
      ],
      "execution_count": 0,
      "outputs": []
    },
    {
      "cell_type": "markdown",
      "metadata": {
        "id": "5FH62gxXoANy",
        "colab_type": "text"
      },
      "source": [
        "###Dados Fundamentalistas"
      ]
    },
    {
      "cell_type": "code",
      "metadata": {
        "id": "tfBjEIjsoD4F",
        "colab_type": "code",
        "outputId": "049e2e00-acbb-4231-b4c6-d918037a26dc",
        "colab": {
          "base_uri": "https://localhost:8080/",
          "height": 34
        }
      },
      "source": [
        "plan_carteira.add_worksheet('fundamentus', 500, 20)"
      ],
      "execution_count": 0,
      "outputs": [
        {
          "output_type": "execute_result",
          "data": {
            "text/plain": [
              "<Worksheet 'fundamentus' id:1378589449>"
            ]
          },
          "metadata": {
            "tags": []
          },
          "execution_count": 37
        }
      ]
    },
    {
      "cell_type": "code",
      "metadata": {
        "id": "yvElrUO8oFN5",
        "colab_type": "code",
        "colab": {}
      },
      "source": [
        "pagina_fundamentus = plan_carteira.get_worksheet(2)"
      ],
      "execution_count": 0,
      "outputs": []
    },
    {
      "cell_type": "code",
      "metadata": {
        "id": "mGc9yqFYoFT3",
        "colab_type": "code",
        "colab": {}
      },
      "source": [
        "url = 'https://www.fundamentus.com.br/resultado.php'"
      ],
      "execution_count": 0,
      "outputs": []
    },
    {
      "cell_type": "code",
      "metadata": {
        "id": "kYH4bxEeoFZp",
        "colab_type": "code",
        "colab": {}
      },
      "source": [
        "df = pd.read_html(url, decimal=',', thousands='.')[0]"
      ],
      "execution_count": 0,
      "outputs": []
    },
    {
      "cell_type": "code",
      "metadata": {
        "id": "lJylwqARoFfM",
        "colab_type": "code",
        "colab": {}
      },
      "source": [
        "set_with_dataframe(pagina_fundamentus, df)"
      ],
      "execution_count": 0,
      "outputs": []
    },
    {
      "cell_type": "code",
      "metadata": {
        "id": "uvKZ_il-vZF_",
        "colab_type": "code",
        "colab": {}
      },
      "source": [
        ""
      ],
      "execution_count": 0,
      "outputs": []
    }
  ]
}