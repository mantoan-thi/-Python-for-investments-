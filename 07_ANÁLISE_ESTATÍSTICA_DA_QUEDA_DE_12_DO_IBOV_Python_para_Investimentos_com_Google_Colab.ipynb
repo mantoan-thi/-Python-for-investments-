{
  "nbformat": 4,
  "nbformat_minor": 0,
  "metadata": {
    "colab": {
      "name": "07 - ANÁLISE ESTATÍSTICA DA QUEDA DE 12% DO IBOV - Python para Investimentos com Google Colab.ipynb",
      "provenance": [],
      "include_colab_link": true
    },
    "kernelspec": {
      "name": "python3",
      "display_name": "Python 3"
    }
  },
  "cells": [
    {
      "cell_type": "markdown",
      "metadata": {
        "id": "view-in-github",
        "colab_type": "text"
      },
      "source": [
        "<a href=\"https://colab.research.google.com/github/codigoquant/python_para_investimentos/blob/master/07_AN%C3%81LISE_ESTAT%C3%8DSTICA_DA_QUEDA_DE_12_DO_IBOV_Python_para_Investimentos_com_Google_Colab.ipynb\" target=\"_parent\"><img src=\"https://colab.research.google.com/assets/colab-badge.svg\" alt=\"Open In Colab\"/></a>"
      ]
    },
    {
      "cell_type": "markdown",
      "metadata": {
        "id": "PcWLoRyROEU6",
        "colab_type": "text"
      },
      "source": [
        "#Ricos pelo Acaso"
      ]
    },
    {
      "cell_type": "markdown",
      "metadata": {
        "id": "z4fHi-EnOHIt",
        "colab_type": "text"
      },
      "source": [
        "Link para o vídeo: https://youtu.be/h4rDzDOoZPA"
      ]
    },
    {
      "cell_type": "markdown",
      "metadata": {
        "id": "_qqPx-qlVy_C",
        "colab_type": "text"
      },
      "source": [
        "# 1. Configurações Iniciais"
      ]
    },
    {
      "cell_type": "code",
      "metadata": {
        "id": "PrOd2uJK4qeN",
        "colab_type": "code",
        "colab": {
          "base_uri": "https://localhost:8080/",
          "height": 381
        },
        "outputId": "f3d6ad79-1c4d-4bf2-a6a3-73199f99ebc5"
      },
      "source": [
        "!pip install yfinance --upgrade --no-cache-dir\n",
        "import yfinance as yf"
      ],
      "execution_count": 1,
      "outputs": [
        {
          "output_type": "stream",
          "text": [
            "Collecting yfinance\n",
            "  Downloading https://files.pythonhosted.org/packages/c2/31/8b374a12b90def92a4e27d0fc595fc43635f395984e36a075244d98bd265/yfinance-0.1.54.tar.gz\n",
            "Requirement already satisfied, skipping upgrade: pandas>=0.24 in /usr/local/lib/python3.6/dist-packages (from yfinance) (1.0.5)\n",
            "Requirement already satisfied, skipping upgrade: numpy>=1.15 in /usr/local/lib/python3.6/dist-packages (from yfinance) (1.18.5)\n",
            "Requirement already satisfied, skipping upgrade: requests>=2.20 in /usr/local/lib/python3.6/dist-packages (from yfinance) (2.23.0)\n",
            "Requirement already satisfied, skipping upgrade: multitasking>=0.0.7 in /usr/local/lib/python3.6/dist-packages (from yfinance) (0.0.9)\n",
            "Requirement already satisfied, skipping upgrade: python-dateutil>=2.6.1 in /usr/local/lib/python3.6/dist-packages (from pandas>=0.24->yfinance) (2.8.1)\n",
            "Requirement already satisfied, skipping upgrade: pytz>=2017.2 in /usr/local/lib/python3.6/dist-packages (from pandas>=0.24->yfinance) (2018.9)\n",
            "Requirement already satisfied, skipping upgrade: urllib3!=1.25.0,!=1.25.1,<1.26,>=1.21.1 in /usr/local/lib/python3.6/dist-packages (from requests>=2.20->yfinance) (1.24.3)\n",
            "Requirement already satisfied, skipping upgrade: chardet<4,>=3.0.2 in /usr/local/lib/python3.6/dist-packages (from requests>=2.20->yfinance) (3.0.4)\n",
            "Requirement already satisfied, skipping upgrade: idna<3,>=2.5 in /usr/local/lib/python3.6/dist-packages (from requests>=2.20->yfinance) (2.10)\n",
            "Requirement already satisfied, skipping upgrade: certifi>=2017.4.17 in /usr/local/lib/python3.6/dist-packages (from requests>=2.20->yfinance) (2020.6.20)\n",
            "Requirement already satisfied, skipping upgrade: six>=1.5 in /usr/local/lib/python3.6/dist-packages (from python-dateutil>=2.6.1->pandas>=0.24->yfinance) (1.15.0)\n",
            "Building wheels for collected packages: yfinance\n",
            "  Building wheel for yfinance (setup.py) ... \u001b[?25l\u001b[?25hdone\n",
            "  Created wheel for yfinance: filename=yfinance-0.1.54-py2.py3-none-any.whl size=22409 sha256=162a745466d3a3cee5d10780ca3a1ac91f5ad9846c86b65d31a10e858b66618b\n",
            "  Stored in directory: /tmp/pip-ephem-wheel-cache-j3wsqjp7/wheels/f9/e3/5b/ec24dd2984b12d61e0abf26289746c2436a0e7844f26f2515c\n",
            "Successfully built yfinance\n",
            "Installing collected packages: yfinance\n",
            "Successfully installed yfinance-0.1.54\n"
          ],
          "name": "stdout"
        }
      ]
    },
    {
      "cell_type": "code",
      "metadata": {
        "id": "WCt0PyxrV3OW",
        "colab_type": "code",
        "colab": {
          "base_uri": "https://localhost:8080/",
          "height": 54
        },
        "outputId": "192bb411-bc5e-46ea-d6cb-708e513ef473"
      },
      "source": [
        "import numpy as np\n",
        "import pandas as pd\n",
        "import matplotlib.pyplot as plt\n",
        "import seaborn as sns\n",
        "sns.set()\n",
        "\n",
        "import matplotlib\n",
        "matplotlib.rcParams['figure.figsize'] = (16,8)\n",
        "matplotlib.rcParams.update({'font.size': 22})\n",
        "\n",
        "import warnings\n",
        "warnings.filterwarnings('ignore')"
      ],
      "execution_count": 2,
      "outputs": [
        {
          "output_type": "stream",
          "text": [
            "/usr/local/lib/python3.6/dist-packages/statsmodels/tools/_testing.py:19: FutureWarning: pandas.util.testing is deprecated. Use the functions in the public API at pandas.testing instead.\n",
            "  import pandas.util.testing as tm\n"
          ],
          "name": "stderr"
        }
      ]
    },
    {
      "cell_type": "code",
      "metadata": {
        "id": "b_TXwA2GDpve",
        "colab_type": "code",
        "colab": {}
      },
      "source": [
        "from scipy.stats import norm, t"
      ],
      "execution_count": 3,
      "outputs": []
    },
    {
      "cell_type": "markdown",
      "metadata": {
        "id": "aRFnZasnWnlN",
        "colab_type": "text"
      },
      "source": [
        "# 2. Análise Estatística do Índice Bovespa"
      ]
    },
    {
      "cell_type": "code",
      "metadata": {
        "id": "SPsar0-4WrzM",
        "colab_type": "code",
        "colab": {
          "base_uri": "https://localhost:8080/",
          "height": 35
        },
        "outputId": "bdca946c-de2d-4ee5-f7d0-de8303c84b67"
      },
      "source": [
        "ibov = yf.download(\"^BVSP\")[[\"Adj Close\"]]"
      ],
      "execution_count": 4,
      "outputs": [
        {
          "output_type": "stream",
          "text": [
            "\r[*********************100%***********************]  1 of 1 completed\n"
          ],
          "name": "stdout"
        }
      ]
    },
    {
      "cell_type": "code",
      "metadata": {
        "id": "h-gRTUn7i9ag",
        "colab_type": "code",
        "colab": {
          "base_uri": "https://localhost:8080/",
          "height": 437
        },
        "outputId": "ee0882a5-9b1b-4a68-c470-0fb0b0beace5"
      },
      "source": [
        "ibov"
      ],
      "execution_count": 5,
      "outputs": [
        {
          "output_type": "execute_result",
          "data": {
            "text/html": [
              "<div>\n",
              "<style scoped>\n",
              "    .dataframe tbody tr th:only-of-type {\n",
              "        vertical-align: middle;\n",
              "    }\n",
              "\n",
              "    .dataframe tbody tr th {\n",
              "        vertical-align: top;\n",
              "    }\n",
              "\n",
              "    .dataframe thead th {\n",
              "        text-align: right;\n",
              "    }\n",
              "</style>\n",
              "<table border=\"1\" class=\"dataframe\">\n",
              "  <thead>\n",
              "    <tr style=\"text-align: right;\">\n",
              "      <th></th>\n",
              "      <th>Adj Close</th>\n",
              "    </tr>\n",
              "    <tr>\n",
              "      <th>Date</th>\n",
              "      <th></th>\n",
              "    </tr>\n",
              "  </thead>\n",
              "  <tbody>\n",
              "    <tr>\n",
              "      <th>1993-04-27</th>\n",
              "      <td>24.500000</td>\n",
              "    </tr>\n",
              "    <tr>\n",
              "      <th>1993-04-28</th>\n",
              "      <td>24.299999</td>\n",
              "    </tr>\n",
              "    <tr>\n",
              "      <th>1993-04-29</th>\n",
              "      <td>23.700001</td>\n",
              "    </tr>\n",
              "    <tr>\n",
              "      <th>1993-04-30</th>\n",
              "      <td>24.100000</td>\n",
              "    </tr>\n",
              "    <tr>\n",
              "      <th>1993-05-03</th>\n",
              "      <td>24.100000</td>\n",
              "    </tr>\n",
              "    <tr>\n",
              "      <th>...</th>\n",
              "      <td>...</td>\n",
              "    </tr>\n",
              "    <tr>\n",
              "      <th>2020-07-20</th>\n",
              "      <td>104426.000000</td>\n",
              "    </tr>\n",
              "    <tr>\n",
              "      <th>2020-07-21</th>\n",
              "      <td>104310.000000</td>\n",
              "    </tr>\n",
              "    <tr>\n",
              "      <th>2020-07-22</th>\n",
              "      <td>104290.000000</td>\n",
              "    </tr>\n",
              "    <tr>\n",
              "      <th>2020-07-23</th>\n",
              "      <td>102293.000000</td>\n",
              "    </tr>\n",
              "    <tr>\n",
              "      <th>2020-07-24</th>\n",
              "      <td>102381.578125</td>\n",
              "    </tr>\n",
              "  </tbody>\n",
              "</table>\n",
              "<p>6738 rows × 1 columns</p>\n",
              "</div>"
            ],
            "text/plain": [
              "                Adj Close\n",
              "Date                     \n",
              "1993-04-27      24.500000\n",
              "1993-04-28      24.299999\n",
              "1993-04-29      23.700001\n",
              "1993-04-30      24.100000\n",
              "1993-05-03      24.100000\n",
              "...                   ...\n",
              "2020-07-20  104426.000000\n",
              "2020-07-21  104310.000000\n",
              "2020-07-22  104290.000000\n",
              "2020-07-23  102293.000000\n",
              "2020-07-24  102381.578125\n",
              "\n",
              "[6738 rows x 1 columns]"
            ]
          },
          "metadata": {
            "tags": []
          },
          "execution_count": 5
        }
      ]
    },
    {
      "cell_type": "code",
      "metadata": {
        "id": "eNvDuiCYk7eB",
        "colab_type": "code",
        "colab": {}
      },
      "source": [
        "ibov['retorno'] = ibov['Adj Close'].pct_change()\n",
        "ibov.dropna(inplace=True)"
      ],
      "execution_count": 6,
      "outputs": []
    },
    {
      "cell_type": "code",
      "metadata": {
        "id": "8PFzjcX8X9La",
        "colab_type": "code",
        "colab": {
          "base_uri": "https://localhost:8080/",
          "height": 35
        },
        "outputId": "e5622135-1f80-45a1-b009-69bbf990cea9"
      },
      "source": [
        "media_ibov = ibov['retorno'].mean()\n",
        "print('Retorno médio = {:.2f}%'.format(media_ibov*100))"
      ],
      "execution_count": 7,
      "outputs": [
        {
          "output_type": "stream",
          "text": [
            "Retorno médio = 0.15%\n"
          ],
          "name": "stdout"
        }
      ]
    },
    {
      "cell_type": "code",
      "metadata": {
        "id": "LEkOUCu-YCvW",
        "colab_type": "code",
        "colab": {
          "base_uri": "https://localhost:8080/",
          "height": 35
        },
        "outputId": "c44019dd-e1bf-40b2-deb8-4626656de69d"
      },
      "source": [
        "desvio_padrao_ibov = ibov['retorno'].std()\n",
        "print('Desvio padrão = {:.2f}%'.format(desvio_padrao_ibov*100))"
      ],
      "execution_count": 8,
      "outputs": [
        {
          "output_type": "stream",
          "text": [
            "Desvio padrão = 2.27%\n"
          ],
          "name": "stdout"
        }
      ]
    },
    {
      "cell_type": "code",
      "metadata": {
        "id": "bZArmIkVWZXz",
        "colab_type": "code",
        "colab": {
          "base_uri": "https://localhost:8080/",
          "height": 228
        },
        "outputId": "688025af-d261-4865-e216-40d8e66a5d31"
      },
      "source": [
        "ibov[ibov[\"retorno\"] < -0.12]"
      ],
      "execution_count": 9,
      "outputs": [
        {
          "output_type": "execute_result",
          "data": {
            "text/html": [
              "<div>\n",
              "<style scoped>\n",
              "    .dataframe tbody tr th:only-of-type {\n",
              "        vertical-align: middle;\n",
              "    }\n",
              "\n",
              "    .dataframe tbody tr th {\n",
              "        vertical-align: top;\n",
              "    }\n",
              "\n",
              "    .dataframe thead th {\n",
              "        text-align: right;\n",
              "    }\n",
              "</style>\n",
              "<table border=\"1\" class=\"dataframe\">\n",
              "  <thead>\n",
              "    <tr style=\"text-align: right;\">\n",
              "      <th></th>\n",
              "      <th>Adj Close</th>\n",
              "      <th>retorno</th>\n",
              "    </tr>\n",
              "    <tr>\n",
              "      <th>Date</th>\n",
              "      <th></th>\n",
              "      <th></th>\n",
              "    </tr>\n",
              "  </thead>\n",
              "  <tbody>\n",
              "    <tr>\n",
              "      <th>1997-10-27</th>\n",
              "      <td>9817.0</td>\n",
              "      <td>-0.149675</td>\n",
              "    </tr>\n",
              "    <tr>\n",
              "      <th>1998-09-10</th>\n",
              "      <td>4761.0</td>\n",
              "      <td>-0.158090</td>\n",
              "    </tr>\n",
              "    <tr>\n",
              "      <th>2020-03-09</th>\n",
              "      <td>86067.0</td>\n",
              "      <td>-0.121738</td>\n",
              "    </tr>\n",
              "    <tr>\n",
              "      <th>2020-03-12</th>\n",
              "      <td>72583.0</td>\n",
              "      <td>-0.147797</td>\n",
              "    </tr>\n",
              "    <tr>\n",
              "      <th>2020-03-16</th>\n",
              "      <td>71168.0</td>\n",
              "      <td>-0.139215</td>\n",
              "    </tr>\n",
              "  </tbody>\n",
              "</table>\n",
              "</div>"
            ],
            "text/plain": [
              "            Adj Close   retorno\n",
              "Date                           \n",
              "1997-10-27     9817.0 -0.149675\n",
              "1998-09-10     4761.0 -0.158090\n",
              "2020-03-09    86067.0 -0.121738\n",
              "2020-03-12    72583.0 -0.147797\n",
              "2020-03-16    71168.0 -0.139215"
            ]
          },
          "metadata": {
            "tags": []
          },
          "execution_count": 9
        }
      ]
    },
    {
      "cell_type": "markdown",
      "metadata": {
        "id": "oJk_30wrjERg",
        "colab_type": "text"
      },
      "source": [
        "**Qual a probabilidade do ibov cair mais que 12% considerando que os retornos seguem uma distribuição normal?**"
      ]
    },
    {
      "cell_type": "code",
      "metadata": {
        "id": "GJijsxALYCub",
        "colab_type": "code",
        "colab": {
          "base_uri": "https://localhost:8080/",
          "height": 35
        },
        "outputId": "11ace571-ede5-4237-acc0-1a0b98150ac9"
      },
      "source": [
        "probabilidade_teorica = norm.cdf(-0.12, loc=media_ibov, scale=desvio_padrao_ibov)\n",
        "print('{:.8f}%'.format(probabilidade_teorica*100))"
      ],
      "execution_count": 10,
      "outputs": [
        {
          "output_type": "stream",
          "text": [
            "0.00000455%\n"
          ],
          "name": "stdout"
        }
      ]
    },
    {
      "cell_type": "code",
      "metadata": {
        "id": "jkLweQZELes-",
        "colab_type": "code",
        "colab": {
          "base_uri": "https://localhost:8080/",
          "height": 54
        },
        "outputId": "1bb8d0fd-d6e8-4800-957e-85150012ad34"
      },
      "source": [
        "frequencia_teorica = 1 / probabilidade_teorica\n",
        "print('Uma vez a cada {} dias'.format(int(round(frequencia_teorica, 5))))\n",
        "print('Ou uma vez a cada {} anos'.format(int(round(frequencia_teorica/252, 5))))"
      ],
      "execution_count": 11,
      "outputs": [
        {
          "output_type": "stream",
          "text": [
            "Uma vez a cada 21962951 dias\n",
            "Ou uma vez a cada 87154 anos\n"
          ],
          "name": "stdout"
        }
      ]
    },
    {
      "cell_type": "code",
      "metadata": {
        "id": "Sl_kM0l1_gbu",
        "colab_type": "code",
        "colab": {
          "base_uri": "https://localhost:8080/",
          "height": 489
        },
        "outputId": "d60202d8-40b6-45d6-af8d-c9a300042744"
      },
      "source": [
        "ibov['retorno'].plot(title=\"Retorno Diário do Índice Bovespa\");"
      ],
      "execution_count": 12,
      "outputs": [
        {
          "output_type": "display_data",
          "data": {
            "image/png": "[encoded data removed]",
            "text/plain": [
              "<Figure size 1152x576 with 1 Axes>"
            ]
          },
          "metadata": {
            "tags": []
          }
        }
      ]
    },
    {
      "cell_type": "code",
      "metadata": {
        "id": "Aybd-G2hRo8_",
        "colab_type": "code",
        "colab": {}
      },
      "source": [
        "ibov['retorno_teorico'] = norm.rvs(size=ibov['retorno'].size,  loc=media_ibov, scale=desvio_padrao_ibov)"
      ],
      "execution_count": 13,
      "outputs": []
    },
    {
      "cell_type": "code",
      "metadata": {
        "id": "aS0rQgzQR9cb",
        "colab_type": "code",
        "colab": {
          "base_uri": "https://localhost:8080/",
          "height": 506
        },
        "outputId": "aeba0a2c-8369-4cfb-ffad-cdd17ab53a0a"
      },
      "source": [
        "ax = ibov['retorno_teorico'].plot(title=\"Retorno Normal Simulado\");\n",
        "ax.set_ylim(-0.2, 0.4)"
      ],
      "execution_count": 14,
      "outputs": [
        {
          "output_type": "execute_result",
          "data": {
            "text/plain": [
              "(-0.2, 0.4)"
            ]
          },
          "metadata": {
            "tags": []
          },
          "execution_count": 14
        },
        {
          "output_type": "display_data",
          "data": {
            "image/png": "[encoded data removed]",
            "text/plain": [
              "<Figure size 1152x576 with 1 Axes>"
            ]
          },
          "metadata": {
            "tags": []
          }
        }
      ]
    },
    {
      "cell_type": "code",
      "metadata": {
        "id": "pGn_ID1qXH4C",
        "colab_type": "code",
        "colab": {
          "base_uri": "https://localhost:8080/",
          "height": 502
        },
        "outputId": "b9d914fb-d0f0-4e53-a2d5-68612939f291"
      },
      "source": [
        "sns.distplot(ibov['retorno'], bins=100, kde=False, fit=t);"
      ],
      "execution_count": 15,
      "outputs": [
        {
          "output_type": "display_data",
          "data": {
            "image/png": "[encoded data removed]",
            "text/plain": [
              "<Figure size 1152x576 with 1 Axes>"
            ]
          },
          "metadata": {
            "tags": []
          }
        }
      ]
    },
    {
      "cell_type": "code",
      "metadata": {
        "id": "g02lhJiHTJIX",
        "colab_type": "code",
        "colab": {
          "base_uri": "https://localhost:8080/",
          "height": 90
        },
        "outputId": "2c3ed1f4-6876-4c1c-d9a9-8839bef4b8aa"
      },
      "source": [
        "(graus_de_liberdade,  media_t, desvio_padrao_t) = t.fit(ibov['retorno'])\n",
        "print('Distribuição T-Student\\nGraus de liberdade={:.2f} \\nMédia={:.4f} \\nDesvio padrão={:.5f}'.format(graus_de_liberdade, media_t, desvio_padrao_t))"
      ],
      "execution_count": 16,
      "outputs": [
        {
          "output_type": "stream",
          "text": [
            "Distribuição T-Student\n",
            "Graus de liberdade=3.25 \n",
            "Média=0.0012 \n",
            "Desvio padrão=0.01449\n"
          ],
          "name": "stdout"
        }
      ]
    },
    {
      "cell_type": "code",
      "metadata": {
        "id": "y7ZaiVpNI1Sl",
        "colab_type": "code",
        "colab": {
          "base_uri": "https://localhost:8080/",
          "height": 35
        },
        "outputId": "6d2e43d6-1ae0-4889-a7e8-b4e174ad2a5a"
      },
      "source": [
        "probabilidade_teorica_t = t.cdf(-0.12, graus_de_liberdade,  loc=media_t, scale=desvio_padrao_t)\n",
        "print('{:.8f}%'.format(probabilidade_teorica_t*100))"
      ],
      "execution_count": 17,
      "outputs": [
        {
          "output_type": "stream",
          "text": [
            "0.13120563%\n"
          ],
          "name": "stdout"
        }
      ]
    },
    {
      "cell_type": "code",
      "metadata": {
        "id": "HfbetiOiV8BR",
        "colab_type": "code",
        "colab": {
          "base_uri": "https://localhost:8080/",
          "height": 72
        },
        "outputId": "dae843d3-3ec4-4560-8f4c-a1b68c3741f7"
      },
      "source": [
        "frequencia_teorica_t = 1 / probabilidade_teorica_t\n",
        "print('Para uma distribuição T-Student: \\nUma vez a cada {} dias'.format(int(round(frequencia_teorica_t, 5))))\n",
        "print('Ou uma vez a cada {} anos'.format(int(round(frequencia_teorica_t/252, 5))))"
      ],
      "execution_count": 18,
      "outputs": [
        {
          "output_type": "stream",
          "text": [
            "Para uma distribuição T-Student: \n",
            "Uma vez a cada 762 dias\n",
            "Ou uma vez a cada 3 anos\n"
          ],
          "name": "stdout"
        }
      ]
    },
    {
      "cell_type": "code",
      "metadata": {
        "id": "QE_z09S2cAsA",
        "colab_type": "code",
        "colab": {
          "base_uri": "https://localhost:8080/",
          "height": 72
        },
        "outputId": "4b903a73-fb7c-4df1-ddde-7484ee8e13bc"
      },
      "source": [
        "frequencia_teorica = 1 / probabilidade_teorica\n",
        "print('Para uma distribuição Normal: \\nUma vez a cada {} dias'.format(int(round(frequencia_teorica, 5))))\n",
        "print('Ou uma vez a cada {} anos'.format(int(round(frequencia_teorica/252, 5))))"
      ],
      "execution_count": 19,
      "outputs": [
        {
          "output_type": "stream",
          "text": [
            "Para uma distribuição Normal: \n",
            "Uma vez a cada 21962951 dias\n",
            "Ou uma vez a cada 87154 anos\n"
          ],
          "name": "stdout"
        }
      ]
    },
    {
      "cell_type": "code",
      "metadata": {
        "id": "Hsw_7YEPWonh",
        "colab_type": "code",
        "colab": {
          "base_uri": "https://localhost:8080/",
          "height": 54
        },
        "outputId": "a7999a6a-215e-4b34-82a3-eefa599aec3b"
      },
      "source": [
        "frequencia_observada = ibov['retorno'].size / ibov[ibov[\"retorno\"] < -0.12].shape[0] \n",
        "print('Na vida real aconteceu: \\nUma vez a cada {} dias'.format(int(round(frequencia_observada, 5))))"
      ],
      "execution_count": 20,
      "outputs": [
        {
          "output_type": "stream",
          "text": [
            "Na vida real aconteceu: \n",
            "Uma vez a cada 1347 dias\n"
          ],
          "name": "stdout"
        }
      ]
    },
    {
      "cell_type": "code",
      "metadata": {
        "id": "fiY1Uz4zjFVA",
        "colab_type": "code",
        "colab": {}
      },
      "source": [
        ""
      ],
      "execution_count": 20,
      "outputs": []
    }
  ]
}