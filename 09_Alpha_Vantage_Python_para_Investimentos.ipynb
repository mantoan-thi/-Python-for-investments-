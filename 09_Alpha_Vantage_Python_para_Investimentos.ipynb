{
  "nbformat": 4,
  "nbformat_minor": 0,
  "metadata": {
    "colab": {
      "name": "09 - Alpha Vantage - Python para Investimentos.ipynb",
      "provenance": [],
      "collapsed_sections": [],
      "authorship_tag": "ABX9TyMyEEIkeE7fDkFPSQiYckqP",
      "include_colab_link": true
    },
    "kernelspec": {
      "name": "python3",
      "display_name": "Python 3"
    }
  },
  "cells": [
    {
      "cell_type": "markdown",
      "metadata": {
        "id": "view-in-github",
        "colab_type": "text"
      },
      "source": [
        "<a href=\"https://colab.research.google.com/github/ricospeloacaso/python_para_investimentos/blob/master/09_Alpha_Vantage_Python_para_Investimentos.ipynb\" target=\"_parent\"><img src=\"https://colab.research.google.com/assets/colab-badge.svg\" alt=\"Open In Colab\"/></a>"
      ]
    },
    {
      "cell_type": "markdown",
      "metadata": {
        "id": "Vjr4Ro8xQll7",
        "colab_type": "text"
      },
      "source": [
        "# Ricos pelo Acaso\n",
        "\n",
        "*Link* para o vídeo: https://youtu.be/kB4jCoVyLRI"
      ]
    },
    {
      "cell_type": "markdown",
      "metadata": {
        "id": "XXN3-mNhxNOP",
        "colab_type": "text"
      },
      "source": [
        "# Bibliotecas"
      ]
    },
    {
      "cell_type": "code",
      "metadata": {
        "id": "OHHEzZzwRRhx",
        "colab_type": "code",
        "colab": {}
      },
      "source": [
        "import numpy as np\n",
        "import pandas as pd\n",
        "import matplotlib.pyplot as plt\n",
        "import seaborn as sns; sns.set()\n",
        "\n",
        "import matplotlib\n",
        "matplotlib.rcParams['figure.figsize'] = (16, 8)"
      ],
      "execution_count": 0,
      "outputs": []
    },
    {
      "cell_type": "code",
      "metadata": {
        "id": "F336SM7MPniI",
        "colab_type": "code",
        "colab": {}
      },
      "source": [
        "!pip install alpha_vantage"
      ],
      "execution_count": 0,
      "outputs": []
    },
    {
      "cell_type": "code",
      "metadata": {
        "id": "B4w76OYeQLCP",
        "colab_type": "code",
        "colab": {}
      },
      "source": [
        "from alpha_vantage.timeseries import TimeSeries"
      ],
      "execution_count": 0,
      "outputs": []
    },
    {
      "cell_type": "markdown",
      "metadata": {
        "id": "uTu7q3p8QOrH",
        "colab_type": "text"
      },
      "source": [
        "# Chave de Acesso a API da Alpha Vantage"
      ]
    },
    {
      "cell_type": "code",
      "metadata": {
        "id": "CidOSQf2QQ7_",
        "colab_type": "code",
        "colab": {}
      },
      "source": [
        "ALPHAVANTAGE_API_KEY ='cole aqui sua chave obtida no site alphavantage.co'"
      ],
      "execution_count": 0,
      "outputs": []
    },
    {
      "cell_type": "markdown",
      "metadata": {
        "id": "jauhh7l1QwMx",
        "colab_type": "text"
      },
      "source": [
        "# Acessando a API"
      ]
    },
    {
      "cell_type": "code",
      "metadata": {
        "id": "aG8KOldPT7Jc",
        "colab_type": "code",
        "colab": {}
      },
      "source": [
        "ts = TimeSeries(key=ALPHAVANTAGE_API_KEY, output_format='pandas')"
      ],
      "execution_count": 0,
      "outputs": []
    },
    {
      "cell_type": "code",
      "metadata": {
        "id": "jdtBezS8JzT6",
        "colab_type": "code",
        "outputId": "e3b796f7-29ad-4cb5-ca6f-720dd6705f10",
        "colab": {
          "base_uri": "https://localhost:8080/",
          "height": 260
        }
      },
      "source": [
        "ts.get_symbol_search('itau')"
      ],
      "execution_count": 0,
      "outputs": [
        {
          "output_type": "execute_result",
          "data": {
            "text/plain": [
              "(                                      1. symbol  ... 9. matchScore\n",
              " date                                             ...              \n",
              " 1970-01-01 00:00:00.000000000              ITUB  ...        0.7500\n",
              " 1970-01-01 00:00:00.000000001              ITCB  ...        0.5455\n",
              " 1970-01-01 00:00:00.000000002         ITUB4.SAO  ...        0.5333\n",
              " 1970-01-01 00:00:00.000000003         ITSA4.SAO  ...        0.5000\n",
              " 1970-01-01 00:00:00.000000004         ITUB3.SAO  ...        0.5000\n",
              " 1970-01-01 00:00:00.000000005         ITSA3.SAO  ...        0.5000\n",
              " 1970-01-01 00:00:00.000000006      ITAUCORP.SAN  ...        0.5000\n",
              " 1970-01-01 00:00:00.000000007    0P0000UBY2.SAO  ...        0.5000\n",
              " 1970-01-01 00:00:00.000000008          ITUB.ARG  ...        0.4211\n",
              " 1970-01-01 00:00:00.000000009  ITAITAUPREVP.SAO  ...        0.1176\n",
              " \n",
              " [10 rows x 9 columns], None)"
            ]
          },
          "metadata": {
            "tags": []
          },
          "execution_count": 6
        }
      ]
    },
    {
      "cell_type": "code",
      "metadata": {
        "id": "m7CVaoEXJ4_k",
        "colab_type": "code",
        "colab": {}
      },
      "source": [
        "dados, meta_dados = ts.get_daily(symbol='^BVSP', outputsize='full')"
      ],
      "execution_count": 0,
      "outputs": []
    },
    {
      "cell_type": "code",
      "metadata": {
        "id": "NJcSIuWoKHXj",
        "colab_type": "code",
        "outputId": "07e6a1f7-14ce-431d-ff43-f98c19263ed1",
        "colab": {
          "base_uri": "https://localhost:8080/",
          "height": 446
        }
      },
      "source": [
        "dados"
      ],
      "execution_count": 0,
      "outputs": [
        {
          "output_type": "execute_result",
          "data": {
            "text/html": [
              "<div>\n",
              "<style scoped>\n",
              "    .dataframe tbody tr th:only-of-type {\n",
              "        vertical-align: middle;\n",
              "    }\n",
              "\n",
              "    .dataframe tbody tr th {\n",
              "        vertical-align: top;\n",
              "    }\n",
              "\n",
              "    .dataframe thead th {\n",
              "        text-align: right;\n",
              "    }\n",
              "</style>\n",
              "<table border=\"1\" class=\"dataframe\">\n",
              "  <thead>\n",
              "    <tr style=\"text-align: right;\">\n",
              "      <th></th>\n",
              "      <th>1. open</th>\n",
              "      <th>2. high</th>\n",
              "      <th>3. low</th>\n",
              "      <th>4. close</th>\n",
              "      <th>5. volume</th>\n",
              "    </tr>\n",
              "    <tr>\n",
              "      <th>date</th>\n",
              "      <th></th>\n",
              "      <th></th>\n",
              "      <th></th>\n",
              "      <th></th>\n",
              "      <th></th>\n",
              "    </tr>\n",
              "  </thead>\n",
              "  <tbody>\n",
              "    <tr>\n",
              "      <th>2020-03-27</th>\n",
              "      <td>77708.0</td>\n",
              "      <td>77708.0</td>\n",
              "      <td>73057.0</td>\n",
              "      <td>73429.0</td>\n",
              "      <td>10301400.0</td>\n",
              "    </tr>\n",
              "    <tr>\n",
              "      <th>2020-03-26</th>\n",
              "      <td>74956.0</td>\n",
              "      <td>78846.0</td>\n",
              "      <td>74923.0</td>\n",
              "      <td>77710.0</td>\n",
              "      <td>12758000.0</td>\n",
              "    </tr>\n",
              "    <tr>\n",
              "      <th>2020-03-25</th>\n",
              "      <td>69727.0</td>\n",
              "      <td>76714.0</td>\n",
              "      <td>69360.0</td>\n",
              "      <td>74956.0</td>\n",
              "      <td>12951100.0</td>\n",
              "    </tr>\n",
              "    <tr>\n",
              "      <th>2020-03-24</th>\n",
              "      <td>63604.0</td>\n",
              "      <td>71535.0</td>\n",
              "      <td>63604.0</td>\n",
              "      <td>69729.0</td>\n",
              "      <td>11679900.0</td>\n",
              "    </tr>\n",
              "    <tr>\n",
              "      <th>2020-03-23</th>\n",
              "      <td>67067.0</td>\n",
              "      <td>67604.0</td>\n",
              "      <td>62161.0</td>\n",
              "      <td>63570.0</td>\n",
              "      <td>11962200.0</td>\n",
              "    </tr>\n",
              "    <tr>\n",
              "      <th>...</th>\n",
              "      <td>...</td>\n",
              "      <td>...</td>\n",
              "      <td>...</td>\n",
              "      <td>...</td>\n",
              "      <td>...</td>\n",
              "    </tr>\n",
              "    <tr>\n",
              "      <th>2000-01-07</th>\n",
              "      <td>16125.0</td>\n",
              "      <td>16449.0</td>\n",
              "      <td>16125.0</td>\n",
              "      <td>16309.0</td>\n",
              "      <td>0.0</td>\n",
              "    </tr>\n",
              "    <tr>\n",
              "      <th>2000-01-06</th>\n",
              "      <td>16237.0</td>\n",
              "      <td>16499.0</td>\n",
              "      <td>15977.0</td>\n",
              "      <td>16107.0</td>\n",
              "      <td>0.0</td>\n",
              "    </tr>\n",
              "    <tr>\n",
              "      <th>2000-01-05</th>\n",
              "      <td>15871.0</td>\n",
              "      <td>16302.0</td>\n",
              "      <td>15350.0</td>\n",
              "      <td>16245.0</td>\n",
              "      <td>0.0</td>\n",
              "    </tr>\n",
              "    <tr>\n",
              "      <th>2000-01-04</th>\n",
              "      <td>16908.0</td>\n",
              "      <td>16908.0</td>\n",
              "      <td>15851.0</td>\n",
              "      <td>15851.0</td>\n",
              "      <td>0.0</td>\n",
              "    </tr>\n",
              "    <tr>\n",
              "      <th>2000-01-03</th>\n",
              "      <td>17098.0</td>\n",
              "      <td>17408.0</td>\n",
              "      <td>16719.0</td>\n",
              "      <td>16930.0</td>\n",
              "      <td>0.0</td>\n",
              "    </tr>\n",
              "  </tbody>\n",
              "</table>\n",
              "<p>5094 rows × 5 columns</p>\n",
              "</div>"
            ],
            "text/plain": [
              "            1. open  2. high   3. low  4. close   5. volume\n",
              "date                                                       \n",
              "2020-03-27  77708.0  77708.0  73057.0   73429.0  10301400.0\n",
              "2020-03-26  74956.0  78846.0  74923.0   77710.0  12758000.0\n",
              "2020-03-25  69727.0  76714.0  69360.0   74956.0  12951100.0\n",
              "2020-03-24  63604.0  71535.0  63604.0   69729.0  11679900.0\n",
              "2020-03-23  67067.0  67604.0  62161.0   63570.0  11962200.0\n",
              "...             ...      ...      ...       ...         ...\n",
              "2000-01-07  16125.0  16449.0  16125.0   16309.0         0.0\n",
              "2000-01-06  16237.0  16499.0  15977.0   16107.0         0.0\n",
              "2000-01-05  15871.0  16302.0  15350.0   16245.0         0.0\n",
              "2000-01-04  16908.0  16908.0  15851.0   15851.0         0.0\n",
              "2000-01-03  17098.0  17408.0  16719.0   16930.0         0.0\n",
              "\n",
              "[5094 rows x 5 columns]"
            ]
          },
          "metadata": {
            "tags": []
          },
          "execution_count": 8
        }
      ]
    },
    {
      "cell_type": "code",
      "metadata": {
        "id": "KDagA-X9KIyk",
        "colab_type": "code",
        "outputId": "d4d2a232-cfb2-4c56-c045-e7bfadf23dac",
        "colab": {
          "base_uri": "https://localhost:8080/",
          "height": 104
        }
      },
      "source": [
        "meta_dados"
      ],
      "execution_count": 0,
      "outputs": [
        {
          "output_type": "execute_result",
          "data": {
            "text/plain": [
              "{'1. Information': 'Daily Prices (open, high, low, close) and Volumes',\n",
              " '2. Symbol': '^BVSP',\n",
              " '3. Last Refreshed': '2020-03-27',\n",
              " '4. Output Size': 'Full size',\n",
              " '5. Time Zone': 'US/Eastern'}"
            ]
          },
          "metadata": {
            "tags": []
          },
          "execution_count": 9
        }
      ]
    },
    {
      "cell_type": "code",
      "metadata": {
        "id": "0nBX9-U1KMr8",
        "colab_type": "code",
        "outputId": "b2b3af36-7f9c-4db9-f73f-1379f349dce4",
        "colab": {
          "base_uri": "https://localhost:8080/",
          "height": 489
        }
      },
      "source": [
        "dados['4. close'].plot()"
      ],
      "execution_count": 0,
      "outputs": [
        {
          "output_type": "execute_result",
          "data": {
            "text/plain": [
              "<matplotlib.axes._subplots.AxesSubplot at 0x7f3fb7016c50>"
            ]
          },
          "metadata": {
            "tags": []
          },
          "execution_count": 10
        },
        {
          "output_type": "display_data",
          "data": {
            "image/png": "[encoded data removed]",
            "text/plain": [
              "<Figure size 1152x576 with 1 Axes>"
            ]
          },
          "metadata": {
            "tags": []
          }
        }
      ]
    },
    {
      "cell_type": "code",
      "metadata": {
        "id": "7GZlX0SoKR4e",
        "colab_type": "code",
        "colab": {}
      },
      "source": [
        ""
      ],
      "execution_count": 0,
      "outputs": []
    }
  ]
}