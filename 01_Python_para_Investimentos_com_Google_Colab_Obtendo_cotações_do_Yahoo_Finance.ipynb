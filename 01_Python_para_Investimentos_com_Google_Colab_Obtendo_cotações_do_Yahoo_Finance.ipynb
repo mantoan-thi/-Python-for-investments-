{
  "nbformat": 4,
  "nbformat_minor": 0,
  "metadata": {
    "colab": {
      "name": "01 - Python para Investimentos com Google Colab - Obtendo cotações do Yahoo Finance.ipynb",
      "provenance": [],
      "include_colab_link": true
    },
    "kernelspec": {
      "name": "python3",
      "display_name": "Python 3"
    }
  },
  "cells": [
    {
      "cell_type": "markdown",
      "metadata": {
        "id": "view-in-github",
        "colab_type": "text"
      },
      "source": [
        "<a href=\"https://colab.research.google.com/github/ricospeloacaso/python_para_investimentos/blob/master/01_Python_para_Investimentos_com_Google_Colab_Obtendo_cota%C3%A7%C3%B5es_do_Yahoo_Finance.ipynb\" target=\"_parent\"><img src=\"https://colab.research.google.com/assets/colab-badge.svg\" alt=\"Open In Colab\"/></a>"
      ]
    },
    {
      "cell_type": "markdown",
      "metadata": {
        "id": "KErD2cQKvetI",
        "colab_type": "text"
      },
      "source": [
        "###Ricos pelo Acaso"
      ]
    },
    {
      "cell_type": "markdown",
      "metadata": {
        "id": "z0y4IcG8viwz",
        "colab_type": "text"
      },
      "source": [
        "Link do vídeo: https://youtu.be/7GGrt3-rRH8"
      ]
    },
    {
      "cell_type": "markdown",
      "metadata": {
        "id": "_qqPx-qlVy_C",
        "colab_type": "text"
      },
      "source": [
        "# Bibliotecas"
      ]
    },
    {
      "cell_type": "markdown",
      "metadata": {
        "id": "hVy0v568v9Qs",
        "colab_type": "text"
      },
      "source": [
        ">Instalando o YFinance"
      ]
    },
    {
      "cell_type": "code",
      "metadata": {
        "id": "OMUMv7AkwCQG",
        "colab_type": "code",
        "colab": {}
      },
      "source": [
        "!pip install yfinance --upgrade --no-cache-dir"
      ],
      "execution_count": 0,
      "outputs": []
    },
    {
      "cell_type": "markdown",
      "metadata": {
        "id": "7YjpHgu7wtrP",
        "colab_type": "text"
      },
      "source": [
        ">Importando as Bibliotecas"
      ]
    },
    {
      "cell_type": "code",
      "metadata": {
        "id": "WCt0PyxrV3OW",
        "colab_type": "code",
        "colab": {}
      },
      "source": [
        "import numpy as np\n",
        "import pandas as pd\n",
        "import matplotlib.pyplot as plt\n",
        "import pandas_datareader.data as web"
      ],
      "execution_count": 0,
      "outputs": []
    },
    {
      "cell_type": "markdown",
      "metadata": {
        "id": "JRvT3418wN-L",
        "colab_type": "text"
      },
      "source": [
        ">Importando o YFinance e sobrescrevendo os métodos do `pandas_datareader`"
      ]
    },
    {
      "cell_type": "code",
      "metadata": {
        "id": "N0gRwzg9wSXd",
        "colab_type": "code",
        "colab": {}
      },
      "source": [
        "import yfinance as yf\n",
        "yf.pdr_override()"
      ],
      "execution_count": 0,
      "outputs": []
    },
    {
      "cell_type": "markdown",
      "metadata": {
        "id": "aRFnZasnWnlN",
        "colab_type": "text"
      },
      "source": [
        "# Obtendo os dados do mercado"
      ]
    },
    {
      "cell_type": "markdown",
      "metadata": {
        "id": "K8lMEDfRxGVT",
        "colab_type": "text"
      },
      "source": [
        ">Baixando as cotações do Yahoo Finance para o Índice Bovespa"
      ]
    },
    {
      "cell_type": "code",
      "metadata": {
        "id": "SPsar0-4WrzM",
        "colab_type": "code",
        "colab": {
          "base_uri": "https://localhost:8080/",
          "height": 35
        },
        "outputId": "ee0523d6-84fb-4a95-99b4-11fdc907f4f1"
      },
      "source": [
        "ibov = web.get_data_yahoo('^BVSP')"
      ],
      "execution_count": 2,
      "outputs": [
        {
          "output_type": "stream",
          "text": [
            "\r[*********************100%***********************]  1 of 1 completed\n"
          ],
          "name": "stdout"
        }
      ]
    },
    {
      "cell_type": "markdown",
      "metadata": {
        "id": "M9kJ5yjCxNYa",
        "colab_type": "text"
      },
      "source": [
        ">Exibindo as cotações mais antigas"
      ]
    },
    {
      "cell_type": "code",
      "metadata": {
        "id": "u9t4ciXJW3B3",
        "colab_type": "code",
        "colab": {
          "base_uri": "https://localhost:8080/",
          "height": 228
        },
        "outputId": "8219196c-d5d0-4ff9-b69b-365bf30415f5"
      },
      "source": [
        "ibov.head()"
      ],
      "execution_count": 3,
      "outputs": [
        {
          "output_type": "execute_result",
          "data": {
            "text/html": [
              "<div>\n",
              "<style scoped>\n",
              "    .dataframe tbody tr th:only-of-type {\n",
              "        vertical-align: middle;\n",
              "    }\n",
              "\n",
              "    .dataframe tbody tr th {\n",
              "        vertical-align: top;\n",
              "    }\n",
              "\n",
              "    .dataframe thead th {\n",
              "        text-align: right;\n",
              "    }\n",
              "</style>\n",
              "<table border=\"1\" class=\"dataframe\">\n",
              "  <thead>\n",
              "    <tr style=\"text-align: right;\">\n",
              "      <th></th>\n",
              "      <th>Open</th>\n",
              "      <th>High</th>\n",
              "      <th>Low</th>\n",
              "      <th>Close</th>\n",
              "      <th>Adj Close</th>\n",
              "      <th>Volume</th>\n",
              "    </tr>\n",
              "    <tr>\n",
              "      <th>Date</th>\n",
              "      <th></th>\n",
              "      <th></th>\n",
              "      <th></th>\n",
              "      <th></th>\n",
              "      <th></th>\n",
              "      <th></th>\n",
              "    </tr>\n",
              "  </thead>\n",
              "  <tbody>\n",
              "    <tr>\n",
              "      <th>1993-04-27</th>\n",
              "      <td>24.799999</td>\n",
              "      <td>25.400000</td>\n",
              "      <td>24.500000</td>\n",
              "      <td>24.500000</td>\n",
              "      <td>24.500000</td>\n",
              "      <td>0</td>\n",
              "    </tr>\n",
              "    <tr>\n",
              "      <th>1993-04-28</th>\n",
              "      <td>24.500000</td>\n",
              "      <td>24.600000</td>\n",
              "      <td>23.700001</td>\n",
              "      <td>24.299999</td>\n",
              "      <td>24.299999</td>\n",
              "      <td>0</td>\n",
              "    </tr>\n",
              "    <tr>\n",
              "      <th>1993-04-29</th>\n",
              "      <td>24.299999</td>\n",
              "      <td>24.799999</td>\n",
              "      <td>23.700001</td>\n",
              "      <td>23.700001</td>\n",
              "      <td>23.700001</td>\n",
              "      <td>0</td>\n",
              "    </tr>\n",
              "    <tr>\n",
              "      <th>1993-04-30</th>\n",
              "      <td>23.700001</td>\n",
              "      <td>24.200001</td>\n",
              "      <td>23.700001</td>\n",
              "      <td>24.100000</td>\n",
              "      <td>24.100000</td>\n",
              "      <td>0</td>\n",
              "    </tr>\n",
              "    <tr>\n",
              "      <th>1993-05-03</th>\n",
              "      <td>24.100000</td>\n",
              "      <td>24.400000</td>\n",
              "      <td>23.799999</td>\n",
              "      <td>24.100000</td>\n",
              "      <td>24.100000</td>\n",
              "      <td>0</td>\n",
              "    </tr>\n",
              "  </tbody>\n",
              "</table>\n",
              "</div>"
            ],
            "text/plain": [
              "                 Open       High        Low      Close  Adj Close  Volume\n",
              "Date                                                                     \n",
              "1993-04-27  24.799999  25.400000  24.500000  24.500000  24.500000       0\n",
              "1993-04-28  24.500000  24.600000  23.700001  24.299999  24.299999       0\n",
              "1993-04-29  24.299999  24.799999  23.700001  23.700001  23.700001       0\n",
              "1993-04-30  23.700001  24.200001  23.700001  24.100000  24.100000       0\n",
              "1993-05-03  24.100000  24.400000  23.799999  24.100000  24.100000       0"
            ]
          },
          "metadata": {
            "tags": []
          },
          "execution_count": 3
        }
      ]
    },
    {
      "cell_type": "markdown",
      "metadata": {
        "id": "PppnUgeNxTqm",
        "colab_type": "text"
      },
      "source": [
        ">Exibindo as cotações mais recentes"
      ]
    },
    {
      "cell_type": "code",
      "metadata": {
        "id": "jmBNADPpW6sg",
        "colab_type": "code",
        "colab": {
          "base_uri": "https://localhost:8080/",
          "height": 228
        },
        "outputId": "328a2143-453e-4005-d098-e6e29e1638b7"
      },
      "source": [
        "ibov.tail()"
      ],
      "execution_count": 4,
      "outputs": [
        {
          "output_type": "execute_result",
          "data": {
            "text/html": [
              "<div>\n",
              "<style scoped>\n",
              "    .dataframe tbody tr th:only-of-type {\n",
              "        vertical-align: middle;\n",
              "    }\n",
              "\n",
              "    .dataframe tbody tr th {\n",
              "        vertical-align: top;\n",
              "    }\n",
              "\n",
              "    .dataframe thead th {\n",
              "        text-align: right;\n",
              "    }\n",
              "</style>\n",
              "<table border=\"1\" class=\"dataframe\">\n",
              "  <thead>\n",
              "    <tr style=\"text-align: right;\">\n",
              "      <th></th>\n",
              "      <th>Open</th>\n",
              "      <th>High</th>\n",
              "      <th>Low</th>\n",
              "      <th>Close</th>\n",
              "      <th>Adj Close</th>\n",
              "      <th>Volume</th>\n",
              "    </tr>\n",
              "    <tr>\n",
              "      <th>Date</th>\n",
              "      <th></th>\n",
              "      <th></th>\n",
              "      <th></th>\n",
              "      <th></th>\n",
              "      <th></th>\n",
              "      <th></th>\n",
              "    </tr>\n",
              "  </thead>\n",
              "  <tbody>\n",
              "    <tr>\n",
              "      <th>2020-04-23</th>\n",
              "      <td>80690.000000</td>\n",
              "      <td>81934.000000</td>\n",
              "      <td>78622.000000</td>\n",
              "      <td>79673.000000</td>\n",
              "      <td>79673.000000</td>\n",
              "      <td>10823500</td>\n",
              "    </tr>\n",
              "    <tr>\n",
              "      <th>2020-04-24</th>\n",
              "      <td>79667.000000</td>\n",
              "      <td>79667.000000</td>\n",
              "      <td>72041.000000</td>\n",
              "      <td>75331.000000</td>\n",
              "      <td>75331.000000</td>\n",
              "      <td>16529200</td>\n",
              "    </tr>\n",
              "    <tr>\n",
              "      <th>2020-04-27</th>\n",
              "      <td>75334.000000</td>\n",
              "      <td>78563.000000</td>\n",
              "      <td>75327.000000</td>\n",
              "      <td>78239.000000</td>\n",
              "      <td>78239.000000</td>\n",
              "      <td>10656900</td>\n",
              "    </tr>\n",
              "    <tr>\n",
              "      <th>2020-04-28</th>\n",
              "      <td>78243.000000</td>\n",
              "      <td>81427.000000</td>\n",
              "      <td>78243.000000</td>\n",
              "      <td>81312.000000</td>\n",
              "      <td>81312.000000</td>\n",
              "      <td>12939000</td>\n",
              "    </tr>\n",
              "    <tr>\n",
              "      <th>2020-04-29</th>\n",
              "      <td>81312.890625</td>\n",
              "      <td>83598.007812</td>\n",
              "      <td>81312.890625</td>\n",
              "      <td>83170.796875</td>\n",
              "      <td>83170.796875</td>\n",
              "      <td>0</td>\n",
              "    </tr>\n",
              "  </tbody>\n",
              "</table>\n",
              "</div>"
            ],
            "text/plain": [
              "                    Open          High  ...     Adj Close    Volume\n",
              "Date                                    ...                        \n",
              "2020-04-23  80690.000000  81934.000000  ...  79673.000000  10823500\n",
              "2020-04-24  79667.000000  79667.000000  ...  75331.000000  16529200\n",
              "2020-04-27  75334.000000  78563.000000  ...  78239.000000  10656900\n",
              "2020-04-28  78243.000000  81427.000000  ...  81312.000000  12939000\n",
              "2020-04-29  81312.890625  83598.007812  ...  83170.796875         0\n",
              "\n",
              "[5 rows x 6 columns]"
            ]
          },
          "metadata": {
            "tags": []
          },
          "execution_count": 4
        }
      ]
    },
    {
      "cell_type": "markdown",
      "metadata": {
        "id": "vH7fomPCxhZM",
        "colab_type": "text"
      },
      "source": [
        ">Plotando o gráfico com o preços de fechamento do Índice Bovespa"
      ]
    },
    {
      "cell_type": "code",
      "metadata": {
        "id": "9YmTPzYVXAH4",
        "colab_type": "code",
        "colab": {
          "base_uri": "https://localhost:8080/",
          "height": 465
        },
        "outputId": "7d59d743-820c-4ec0-e4d8-52633e9d1e3a"
      },
      "source": [
        "ibov[\"Close\"].plot(figsize=(22,8));"
      ],
      "execution_count": 6,
      "outputs": [
        {
          "output_type": "display_data",
          "data": {
            "image/png": "[encoded data removed]",
            "text/plain": [
              "<Figure size 1584x576 with 1 Axes>"
            ]
          },
          "metadata": {
            "tags": [],
            "needs_background": "light"
          }
        }
      ]
    }
  ]
}