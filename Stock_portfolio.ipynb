{
  "nbformat": 4,
  "nbformat_minor": 0,
  "metadata": {
    "colab": {
      "name": "Stock_portfolio.ipynb",
      "provenance": [],
      "collapsed_sections": [],
      "authorship_tag": "ABX9TyNjoCy4d3/HoKsqtvbnjHqG",
      "include_colab_link": true
    },
    "kernelspec": {
      "name": "python3",
      "display_name": "Python 3"
    },
    "language_info": {
      "name": "python"
    }
  },
  "cells": [
    {
      "cell_type": "markdown",
      "metadata": {
        "id": "view-in-github",
        "colab_type": "text"
      },
      "source": [
        "<a href=\"https://colab.research.google.com/github/mantoan-thi/-Python-for-investments-/blob/main/Stock_portfolio.ipynb\" target=\"_parent\"><img src=\"https://colab.research.google.com/assets/colab-badge.svg\" alt=\"Open In Colab\"/></a>"
      ]
    },
    {
      "cell_type": "code",
      "source": [
        "!pip install --upgrade pandas-datareader"
      ],
      "metadata": {
        "id": "khQbmEv2lniv"
      },
      "execution_count": null,
      "outputs": []
    },
    {
      "cell_type": "code",
      "source": [
        "import pandas as pd\n",
        "from pandas_datareader import data\n",
        "from fbprophet import Prophet\n",
        "from fbprophet.plot import plot_plotly, plot_components_plotly"
      ],
      "metadata": {
        "id": "6tA1FGjjlYvq"
      },
      "execution_count": 82,
      "outputs": []
    },
    {
      "cell_type": "code",
      "source": [
        "tickers = ['RRRP3.SA','ALPA4.SA','ABEV3.SA','AMER3.SA','ASAI3.SA','AZUL4.SA']\n",
        "          #'B3SA3.SA','BIDI11.SA','BPAN4.SA','BBSE3.SA','BRML3.SA','BBDC3.SA',\n",
        "          #'BBDC4.SA','BRAP4.SA','BBAS3.SA','BRKM5.SA','BRFS3.SA']"
      ],
      "metadata": {
        "id": "2bwMRQ6HsHDm"
      },
      "execution_count": 112,
      "outputs": []
    },
    {
      "cell_type": "code",
      "execution_count": 123,
      "metadata": {
        "id": "jde9l1z0lV04"
      },
      "outputs": [],
      "source": [
        "def coletar(tickers):\n",
        "    start_date = '2009-01-01'\n",
        "    end_date = '2016-12-31'\n",
        "    dados = data.DataReader(tickers, 'yahoo', start_date)['Adj Close']\n",
        "    dataset = pd.DataFrame(dados)\n",
        "    dataset.reset_index(inplace=True)\n",
        "    dataset.rename(columns={'Date': 'ds','Adj Close':'y'},inplace =True)\n",
        "    return dataset\n",
        "\n",
        "def previsao(dados):\n",
        "    prior_scale=0.2\n",
        "    m = Prophet(changepoint_prior_scale=prior_scale)\n",
        "    m.fit(dados)\n",
        "    future = m.make_future_dataframe(periods=30)\n",
        "    forecast = m.predict(future)\n",
        "    #forecast[['ds', 'yhat', 'yhat_lower', 'yhat_upper']].tail()\n",
        "    return forecast['yhat'].iloc[-31:]"
      ]
    },
    {
      "cell_type": "code",
      "source": [
        "def gerar_analise():\n",
        "  lista = []\n",
        "  print('Carteira Teórica do IBovespa\\n')\n",
        "  print('Quantidade de ativos: ',len(tickers),'\\n')\n",
        "  for ativo in tickers:\n",
        "      print('Analisando: ',ativo)\n",
        "      dataset = previsao(coletar(ativo))\n",
        "      var = dataset[-1:].values[0]/dataset[:1].values[0]-1\n",
        "      lista.append([ativo,var])\n",
        "  new_lista = pd.DataFrame(lista,columns=['Ativo','Percentual'])\n",
        "  Ativo_compra = new_lista[new_lista['Percentual'] > 0]\n",
        "  Ativo_venda = new_lista[new_lista['Percentual'] < 0]\n",
        "  Ativo_compra.sort_values(by=['Percentual'],ascending=False,inplace=True)\n",
        "  Ativo_venda.sort_values(by=['Percentual'],inplace=True)\n",
        "  Ativo_compra['Percentual'] = Ativo_compra['Percentual'].apply(lambda x: '{:.2%}'.format(x))\n",
        "  Ativo_venda['Percentual'] = Ativo_venda['Percentual'].apply(lambda x: '{:.2%}'.format(x))\n",
        "  return Ativo_compra,Ativo_venda"
      ],
      "metadata": {
        "id": "KbE7jfW8lf2R"
      },
      "execution_count": 124,
      "outputs": []
    },
    {
      "cell_type": "code",
      "source": [
        "Ativo_compra, Ativo_venda = gerar_analise()"
      ],
      "metadata": {
        "colab": {
          "base_uri": "https://localhost:8080/"
        },
        "id": "LHxnZXiLy6Qz",
        "outputId": "be5a7e9b-f913-45a7-cc55-bef2d3702aa6"
      },
      "execution_count": null,
      "outputs": [
        {
          "output_type": "stream",
          "name": "stdout",
          "text": [
            "Carteira Teórica do IBovespa\n",
            "\n",
            "Quantidade de ativos:  6 \n",
            "\n",
            "Analisando:  RRRP3.SA\n"
          ]
        },
        {
          "output_type": "stream",
          "name": "stderr",
          "text": [
            "INFO:fbprophet:Disabling yearly seasonality. Run prophet with yearly_seasonality=True to override this.\n",
            "INFO:fbprophet:Disabling daily seasonality. Run prophet with daily_seasonality=True to override this.\n"
          ]
        },
        {
          "output_type": "stream",
          "name": "stdout",
          "text": [
            "Analisando:  ALPA4.SA\n"
          ]
        },
        {
          "output_type": "stream",
          "name": "stderr",
          "text": [
            "INFO:fbprophet:Disabling daily seasonality. Run prophet with daily_seasonality=True to override this.\n"
          ]
        },
        {
          "output_type": "stream",
          "name": "stdout",
          "text": [
            "Analisando:  ABEV3.SA\n"
          ]
        },
        {
          "output_type": "stream",
          "name": "stderr",
          "text": [
            "INFO:fbprophet:Disabling daily seasonality. Run prophet with daily_seasonality=True to override this.\n"
          ]
        },
        {
          "output_type": "stream",
          "name": "stdout",
          "text": [
            "Analisando:  AMER3.SA\n"
          ]
        },
        {
          "output_type": "stream",
          "name": "stderr",
          "text": [
            "INFO:fbprophet:Disabling daily seasonality. Run prophet with daily_seasonality=True to override this.\n"
          ]
        }
      ]
    },
    {
      "cell_type": "code",
      "source": [
        ""
      ],
      "metadata": {
        "id": "MOLOFWGwy6Xw"
      },
      "execution_count": null,
      "outputs": []
    }
  ]
}